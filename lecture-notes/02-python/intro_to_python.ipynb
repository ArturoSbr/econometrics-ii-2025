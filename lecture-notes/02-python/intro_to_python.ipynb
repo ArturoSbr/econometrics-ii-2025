{
  "nbformat": 4,
  "nbformat_minor": 0,
  "metadata": {
    "colab": {
      "provenance": []
    },
    "kernelspec": {
      "name": "python3",
      "display_name": "Python 3"
    },
    "language_info": {
      "name": "python"
    }
  },
  "cells": [
    {
      "cell_type": "markdown",
      "source": [
        "# Good Python\n",
        "\n",
        "This notebook shows some of the most basic Python concepts that we'll be\n",
        "using over and over again throughout this course."
      ],
      "metadata": {
        "id": "Eo9Ts_vEvFMJ"
      }
    },
    {
      "cell_type": "markdown",
      "source": [
        "## Declaring objects\n",
        "\n",
        "We _declare_ variables by assigning an object to a variable using the `=` operator."
      ],
      "metadata": {
        "id": "c9LLgkkN7tDD"
      }
    },
    {
      "cell_type": "code",
      "source": [
        "x = 'LEARNING PYTHON'  # Store string in variable x\n",
        "y = 2.0  # Store float in variable y"
      ],
      "metadata": {
        "id": "bOcJDBQ2xVWe"
      },
      "execution_count": null,
      "outputs": []
    },
    {
      "cell_type": "markdown",
      "source": [
        "Different objects have different types depending on the class they belong to."
      ],
      "metadata": {
        "id": "zguzj0P17yau"
      }
    },
    {
      "cell_type": "code",
      "source": [
        "type(x)"
      ],
      "metadata": {
        "id": "TGMNa1UsyPZz"
      },
      "execution_count": null,
      "outputs": []
    },
    {
      "cell_type": "code",
      "source": [
        "type(y)"
      ],
      "metadata": {
        "id": "vCN5AyL0ypRE"
      },
      "execution_count": null,
      "outputs": []
    },
    {
      "cell_type": "markdown",
      "source": [
        "All objects have _special_ attributes and methods depending on their class.\n",
        "\n",
        "For example, `.split()` is a string-specific method."
      ],
      "metadata": {
        "id": "xf0LCDRK73fn"
      }
    },
    {
      "cell_type": "code",
      "source": [
        "x.split(' ')  # Splits the string on ' ' and returns a list"
      ],
      "metadata": {
        "id": "FFl-uaKy8SnJ"
      },
      "execution_count": null,
      "outputs": []
    },
    {
      "cell_type": "markdown",
      "source": [
        "In contrast, we cannot access `.split()` for `y` because `y` is a float, not a string!"
      ],
      "metadata": {
        "id": "djrOaBWv8yQJ"
      }
    },
    {
      "cell_type": "code",
      "source": [
        "y.split('.')  # Does NOT return [2, 0]!"
      ],
      "metadata": {
        "id": "UeS9k8OD8wKG"
      },
      "execution_count": null,
      "outputs": []
    },
    {
      "cell_type": "markdown",
      "source": [
        "### f-strings\n",
        "_f-strings_ are super useful because they can be formatted (hence the _f_ in their name)."
      ],
      "metadata": {
        "id": "gy259cqX_lu4"
      }
    },
    {
      "cell_type": "code",
      "source": [
        "# Declare some variables according to how you feel regarding Python\n",
        "custom_1, custom_2, custom_3 = 'Python', 'greatest', 'better'\n",
        "\n",
        "# Stick them in an f-string\n",
        "f_string = f'{custom_1} is the {custom_2} language ever! It is much {custom_3} than R.'\n",
        "\n",
        "# Print string\n",
        "print(f_string)"
      ],
      "metadata": {
        "id": "urQSpj6Z_oFl"
      },
      "execution_count": null,
      "outputs": []
    },
    {
      "cell_type": "markdown",
      "source": [
        "## Data Structures\n",
        "\n",
        "Lists and tuples are the building blocks of more complex data structures such as\n",
        "numpy arrays, pandas dataframes and even tensorflow tensors.\n",
        "\n",
        "Lists and tuples are array-type objects that can hold any kind of object within themselves.\n",
        "\n",
        "> Remember that Python is zero-indexed! In other words, if you want to access the\n",
        "**third** element of a list, you need to use the **second** index (because we\n",
        "count from zero: 0, 1, **2**, 3)."
      ],
      "metadata": {
        "id": "1AFvMYOM9B76"
      }
    },
    {
      "cell_type": "code",
      "source": [
        "# Declare a list\n",
        "my_list = [1, 2.0, '3']  # Not necessarily homogeneous!\n",
        "\n",
        "# We can append new values to the list\n",
        "my_list.append('4')  # Add 4 (as a string) to the list\n",
        "\n",
        "# We can access the i-th element from array-like objects with []\n",
        "print(my_list[0])  # First element\n",
        "\n",
        "# We can remove the i-th element from the list\n",
        "my_list.pop(2)  # Remove the THIRD element from the list\n",
        "\n",
        "# Print resulting list\n",
        "my_list"
      ],
      "metadata": {
        "id": "Fsfgnzl71QyC"
      },
      "execution_count": null,
      "outputs": []
    },
    {
      "cell_type": "markdown",
      "source": [
        "Tuples, on the other hand, are basically inmutable lists. They serve as a\n",
        "simliar data structure but you cannot append, remove or update any of the\n",
        "elements within them."
      ],
      "metadata": {
        "id": "9qDR6a3sNAri"
      }
    },
    {
      "cell_type": "code",
      "source": [
        "# Declare a tuple\n",
        "my_tuple = (42, 43, 44, 45)\n",
        "\n",
        "# We cannot update any of its items\n",
        "my_tuple[0] = 123  # We cannot modify the first value"
      ],
      "metadata": {
        "id": "74NRfqwz3ffu"
      },
      "execution_count": null,
      "outputs": []
    },
    {
      "cell_type": "markdown",
      "source": [
        "## Calling functions\n",
        "\n",
        "Python has several built-in functions (not to be confused with methods).\n",
        "\n",
        "Us programmers say we _pass_ an _argument_ to a _function_.\n",
        "\n",
        "```python\n",
        "my_function(my_argument)  # Pass `my_argument` to function `my_function`\n",
        "```\n",
        "\n",
        "For example, we can pass `my_tuple` to the function `sum`, which only accepts\n",
        "array-like structures composed of numeric elements (integers or floats)."
      ],
      "metadata": {
        "id": "WseNMc54PFsC"
      }
    },
    {
      "cell_type": "code",
      "source": [
        "# Sum all the elements in my_tuple\n",
        "print(sum(my_tuple))\n",
        "\n",
        "# We cannot sum all the elements in my_list because it contains strings\n",
        "print(sum(my_list))"
      ],
      "metadata": {
        "id": "8VdFXOxo3678"
      },
      "execution_count": null,
      "outputs": []
    },
    {
      "cell_type": "markdown",
      "source": [
        "## Importing external libraries\n",
        "\n",
        "Python has tons of useful built-in functions, but we can extend its functionality\n",
        "by importing external modules.\n",
        "\n",
        "> **NOTE**: Imports should ALWAYS go at the very beginning of your script! We are\n",
        "making an excpetion here, of course."
      ],
      "metadata": {
        "id": "TVXBL9AwQOOm"
      }
    },
    {
      "cell_type": "code",
      "source": [
        "# Import numpy (library) and alias it 'np'\n",
        "import numpy as np\n",
        "\n",
        "# Use numpy's sum function\n",
        "np.sum(my_tuple)"
      ],
      "metadata": {
        "id": "1bq7z8uA4AbN"
      },
      "execution_count": null,
      "outputs": []
    },
    {
      "cell_type": "markdown",
      "source": [
        "## For Loops\n",
        "For loops are a way to iteratively execute commands.\n",
        "\n",
        "1. We can iterate over the values of an iterable object."
      ],
      "metadata": {
        "id": "gwj9_vATQ0u5"
      }
    },
    {
      "cell_type": "code",
      "source": [
        "my_string = 'GOOD PYTHON'\n",
        "\n",
        "# Iterate over each character and print it\n",
        "for char in my_string:\n",
        "    print(char)"
      ],
      "metadata": {
        "id": "u3a8jKsh40Gu"
      },
      "execution_count": null,
      "outputs": []
    },
    {
      "cell_type": "markdown",
      "source": [
        "2. We can iterate over the indexes of an iterable object:"
      ],
      "metadata": {
        "id": "KdtbwlVJRV9V"
      }
    },
    {
      "cell_type": "code",
      "source": [
        "for i in range(len(my_string)):\n",
        "    print(my_string[i])  # Same thing as before but we're using [i]"
      ],
      "metadata": {
        "id": "-A0bXqCp-4TI"
      },
      "execution_count": null,
      "outputs": []
    },
    {
      "cell_type": "markdown",
      "source": [
        "We can update the elements of a list. For example, we can cast each element\n",
        "in `my_list` to strings."
      ],
      "metadata": {
        "id": "bIqwII_mRmEO"
      }
    },
    {
      "cell_type": "code",
      "source": [
        "# Print current version of my_list\n",
        "print(my_list)\n",
        "\n",
        "# Iterate over each element and cast it to a string\n",
        "for i, v in enumerate(my_list):\n",
        "    my_list[i] = str(my_list[i])\n",
        "\n",
        "# View result\n",
        "my_list"
      ],
      "metadata": {
        "id": "bxuvl7-x5zyh"
      },
      "execution_count": null,
      "outputs": []
    },
    {
      "cell_type": "markdown",
      "source": [
        "## List comprehension\n",
        "\n",
        "List comprehension is a super concise way to declare lists in a few lines of code.\n",
        "\n",
        "Python developers use it a lot to make their code more readable."
      ],
      "metadata": {
        "id": "fqf0QTHH_kyQ"
      }
    },
    {
      "cell_type": "code",
      "source": [
        "# Declare [1, 2, 3, 4, ..., 98, 99, 100]\n",
        "my_new_list = [i + 1 for i in range(100)]"
      ],
      "metadata": {
        "id": "2y6HPCqd60q3"
      },
      "execution_count": null,
      "outputs": []
    },
    {
      "cell_type": "markdown",
      "source": [
        "## Custom functions\n",
        "\n",
        "We can declare our own functions using `def`.\n",
        "\n",
        "Ideally, we should always add a docstring (instructions on how to use our function)\n",
        "and hint the expected types of each argument."
      ],
      "metadata": {
        "id": "uLhEapO5AgzK"
      }
    },
    {
      "cell_type": "code",
      "source": [
        "# Custom function that calculates the Neyman statistic\n",
        "def neyman(array1, array2):\n",
        "    \"\"\"\n",
        "    Calculate the Neyman statistic.\n",
        "\n",
        "    Parameters\n",
        "    ----------\n",
        "    array1 : array-like\n",
        "        Observed outcomes of the treatment group.\n",
        "    array2 : array-like\n",
        "        Observed outcomes of the control group.\n",
        "\n",
        "    Returns\n",
        "    -------\n",
        "    float\n",
        "        The Neyman statistic.\n",
        "    \"\"\"\n",
        "\n",
        "    # Calculate means\n",
        "    mean_array1 = np.mean(array1)\n",
        "    mean_array2 = np.mean(array2)\n",
        "\n",
        "    # Calculate the denominator\n",
        "    sdev = np.sqrt(\n",
        "        np.var(array1) / len(array1)\n",
        "        + np.var(array2) / len(array2)\n",
        "    )\n",
        "\n",
        "    # Return the actual statistic\n",
        "    return (mean_array1 - mean_array2) / sdev"
      ],
      "metadata": {
        "id": "lz-v6DNr2Sv_"
      },
      "execution_count": null,
      "outputs": []
    },
    {
      "cell_type": "markdown",
      "source": [
        "Let's test out our function."
      ],
      "metadata": {
        "id": "L5hxNALtTB5W"
      }
    },
    {
      "cell_type": "code",
      "source": [
        "neyman(\n",
        "    [75, 120, 80, 65],  # Yearly income of treatment group\n",
        "    [65, 44, 49, 50, 28]  # Yearly income of control group\n",
        ")"
      ],
      "metadata": {
        "id": "AtHDUjRYTE0R"
      },
      "execution_count": null,
      "outputs": []
    },
    {
      "cell_type": "markdown",
      "source": [
        "Best practice: We should always factor out our custom functions and place them in their own\n",
        "litte script (sometimes called a _module_).\n",
        "\n",
        "> Check out the script `./functions/stats/functions.py`, which contains the same\n",
        "`neyman` function except it's called `neyman_stat`.\n",
        "\n",
        "We will use `os.path.join` to declare the path (this way, it will work on any OS).\n",
        "\n",
        "- On Windows, `os.path.join('.', 'functions', 'stats')` returns `'.\\functions\\stats'`.\n",
        "- On MacOS and Linux, `os.path.join('.', 'functions', 'stats')` returns `'./functions/stats'`.\n"
      ],
      "metadata": {
        "id": "OqBYKLTg2qB1"
      }
    },
    {
      "cell_type": "code",
      "source": [
        "# Import os & sys\n",
        "import os, sys  # Would normally go at the top!\n",
        "\n",
        "# Append path to the list of paths our Python session can access\n",
        "sys.path.append(\n",
        "    os.path.join(\n",
        "        '.', 'functions', 'stats'\n",
        "    )\n",
        ")\n",
        "\n",
        "# Import function from functions.py file\n",
        "from functions import neyman_stat\n",
        "\n",
        "# Use it again\n",
        "neyman_stat(\n",
        "    [75, 120, 80, 65],  # Yearly income of treatment group\n",
        "    [65, 44, 49, 50, 28]  # Yearly income of control group\n",
        ")"
      ],
      "metadata": {
        "id": "znIrQkC9CkS8"
      },
      "execution_count": null,
      "outputs": []
    }
  ]
}