{
 "cells": [
  {
   "cell_type": "markdown",
   "id": "2471d0ce",
   "metadata": {},
   "source": [
    "# Difference-in-Differences\n",
    "In Difference-in-Differences (DiD) specifications, we compare changes in outcomes over\n",
    "time between treated and untreated units to isolate the causal effect of a treatment.\n",
    "The key identifying assumption is that in the absence of treatment, the treated group \n",
    "would have experienced the same outcome trend as the control group. This is known as \n",
    "the **parallel trends** assumption, which formally states that:\n",
    "$$\n",
    "    \\mathbb{E}[ Y_{i,t_1}(0) - Y_{i,t_0}(0) \\mid \\text{treated}]\n",
    "    =\n",
    "    \\mathbb{E}[ Y_{i,t_1}(0) - Y_{i,t_0}(0) \\mid \\text{control}]\n",
    "$$\n",
    "for any two periods $t_0$ and $t_1$.\n",
    "\n",
    "This means that if the treated group had not received treatment, its expected change in\n",
    "outcomes over time would have mirrored that of the control group. Graphically, this\n",
    "implies that the untreated potential outcomes for both groups would follow parallel\n",
    "paths.\n",
    "\n",
    "This model also assumes that once treatment begins, treated units remain treated. In\n",
    "other words, a treated unit cannot opt out of treatment. This is a realistic assumption\n",
    "for settings like state-level policies, but it may hold in scientific experiments where\n",
    "attritors can lie about taking a drug.\n",
    "\n",
    "## Two way fixed effects\n",
    "Two way fixed effects (2FE) are a common extension of the DiD model. It sounds fancy,\n",
    "but it only means that we are adding unit-level ($\\alpha_i$) and time-level ($\\lambda_t)\n",
    "fixed effects to the base specificacion to control for variation within units as well as\n",
    "time periods.\n",
    "\n",
    "## 1. Basic Model\n",
    "We start off by assuming that the treatment effect is homogeneous accross all treated\n",
    "units and all post-treatment periods.\n",
    "$$\n",
    "    Y_{it} = \\alpha_i + \\lambda_t + \\delta D_{it} + \\varepsilon_{it}\n",
    "$$\n",
    "\n",
    "- $Y_{it}: outcome for unit $i$ at time $t$\n",
    "- $\\alpha_i$: unit FE\n",
    "- $\\lambda_t$: time FE\n",
    "- $D_{it}$: Binary treatment indicator (1 if $i$ is treated in period $t$, 0 otherwise)\n",
    "- $\\delta$: Average treatment effect on the treated\n",
    "\n",
    "This specification imposes a strong assumption: the treatment effect is immediate,\n",
    "constant over time, and identical across units. It does not allow for anticipation,\n",
    "lagged effects, or treatment effect heterogeneity.\n",
    "\n",
    "## 2. Heterogeneous Treatment Effects\n",
    "Suppose treatment begins at time $t^* \\in \\{0, 1, ..., T\\}$. Then, the model\n",
    "$$\n",
    "    Y_{it} = \\alpha_i + \\lambda_t + \\sum_{\\substack{s = 0 \\\\ s \\ne t^* - 1}}^T\n",
    "    \\delta_s \\mathbf{1}\\{t = s\\} D_i + \\varepsilon_{it}\n",
    "$$\n",
    "allows for heterogeneous treatment effects (over time).\n",
    "\n",
    "- This model allows us to test the parallel trends assumption in pre-treatment periods!\n",
    "- What happens if some units begin treatment at different periods?\n",
    "\n",
    "## 3. Event Study\n",
    "Model 2 uses natural time period $t$, and it works well when every unit in the treatment\n",
    "group begins treatment in the same period. However, if at least one treatment unit\n",
    "begins at a different period than the rest, then there is not a single $t^*$ that\n",
    "applies to all units.\n",
    "\n",
    "To solve this technical issue, we re-index time periods so that they're now measured in\n",
    "**periods away from treatment**. In other words, if $i$ began treatment at time $t_i$,\n",
    "then $G_i = t_i$, and thus:\n",
    "$$k = t - G_i$$\n",
    "and\n",
    "$$\n",
    "    Y_{it} = \\alpha_i + \\lambda_t +\n",
    "    \\sum_{\\substack{k = k_{min} \\\\ k \\ne - 1}}^{k_{max}}\n",
    "    \\beta_k \\mathbf{1}\\{t - G_i = k\\} + \\varepsilon_{it}\n",
    "$$\n",
    "\n",
    "Note that $G_i$ is not defined for control units! We have two optinos:\n",
    "1. Exclude control units\n",
    "2. Include all observations, but let $k = \\text{NaN}$ for control units\n",
    "\n",
    "---\n",
    "\n",
    "Imports"
   ]
  },
  {
   "cell_type": "code",
   "execution_count": null,
   "id": "6faa3b45",
   "metadata": {},
   "outputs": [],
   "source": [
    "import os\n",
    "import pandas as pd\n",
    "from linearmodels.panel import PanelOLS"
   ]
  },
  {
   "cell_type": "markdown",
   "id": "b608495d",
   "metadata": {},
   "source": [
    "Load data and set indexes"
   ]
  },
  {
   "cell_type": "code",
   "execution_count": null,
   "id": "ce3e64e4",
   "metadata": {},
   "outputs": [],
   "source": [
    "# Load data\n",
    "df = pd.read_csv(os.path.join('..', 'data', 'card-krueger.csv'))\n",
    "\n",
    "# Set idx\n",
    "df = df.set_index(['i', 't'])\n",
    "\n",
    "# Get dummies from encoded columns\n",
    "df = pd.get_dummies(data=df, columns=['chain', 'meals'], dtype=int, drop_first=False)\n",
    "\n",
    "# Masks to keep full panel\n",
    "mask = df['type_1'].eq(1)  # Answered 2nd interview\n",
    "mask_ft = ~df['empft'].isna().groupby(level=0).any()  # Full empft panel\n",
    "mask_pt = ~df['emppt'].isna().groupby(level=0).any()  # Full emppt panel\n",
    "mask_mg = ~df['nmgrs'].isna().groupby(level=0).any()  # Full nmgrs panel\n",
    "\n",
    "# Declare D_{it}\n",
    "df['Dit'] = df['state'] * df.index.get_level_values(1)  # 1=(NJ & t=1), 0=otherwise"
   ]
  },
  {
   "cell_type": "markdown",
   "id": "b2b5ad7a",
   "metadata": {},
   "source": [
    "1. $E(Y_{it}) = \\alpha_i + \\lambda_t + \\delta D_{it}$"
   ]
  },
  {
   "cell_type": "code",
   "execution_count": null,
   "id": "5bd58365",
   "metadata": {},
   "outputs": [],
   "source": [
    "# Declare model\n",
    "m0 = PanelOLS(\n",
    "    dependent=df.loc[mask & mask_ft, 'empft'],\n",
    "    exog=df.loc[mask & mask_ft, 'Dit'],\n",
    "    entity_effects=True,\n",
    "    time_effects=True\n",
    ")\n",
    "\n",
    "# Fit model\n",
    "res0 = m0.fit(cov_type='clustered')\n",
    "\n",
    "# View results\n",
    "print(res0.summary)"
   ]
  },
  {
   "cell_type": "markdown",
   "id": "6598055c",
   "metadata": {},
   "source": [
    "2. $E(Y_{it}) = \\alpha_i + \\lambda_t + \\gamma X_{it} + \\delta D_{it}$"
   ]
  },
  {
   "cell_type": "code",
   "execution_count": null,
   "id": "4760fc3d",
   "metadata": {},
   "outputs": [],
   "source": [
    "# Declare controls\n",
    "X1 = ['open', 'hrsopen', 'Dit']  # Why not pa_1, pa_2, etc.?\n",
    "\n",
    "# Declare model\n",
    "m1 = PanelOLS(\n",
    "    dependent=df.loc[mask & mask_ft, 'empft'],\n",
    "    exog=df.loc[mask & mask_ft, X1],\n",
    "    entity_effects=True,\n",
    "    time_effects=True\n",
    ")\n",
    "\n",
    "# Fit model\n",
    "res1 = m1.fit(cov_type='clustered')\n",
    "\n",
    "# View results\n",
    "print(res1.summary)"
   ]
  },
  {
   "cell_type": "markdown",
   "id": "fdad563a",
   "metadata": {},
   "source": [
    "3. $E(Y_{it}) = \\alpha_i + \\lambda_t + \\gamma \\tilde{X}_{it} + \\delta D_{it}$"
   ]
  },
  {
   "cell_type": "code",
   "execution_count": null,
   "id": "404bf1cc",
   "metadata": {},
   "outputs": [],
   "source": []
  },
  {
   "cell_type": "code",
   "execution_count": null,
   "id": "636deca7",
   "metadata": {},
   "outputs": [],
   "source": []
  },
  {
   "cell_type": "code",
   "execution_count": null,
   "id": "3d1c7f62",
   "metadata": {},
   "outputs": [],
   "source": [
    "# Declare controls\n",
    "X2 = ['open', 'hrsopen', 'pfry', 'psoda', 'pentree', 'nregs', 'Dit']\n",
    "mask_X2 = ~df[X2].isna().groupby(level=0).any().sum(axis=1).astype(bool)  # New mask\n",
    "\n",
    "# Declare model\n",
    "m2 = PanelOLS(\n",
    "    dependent=df.loc[mask & mask_ft & mask_X2, 'empft'],\n",
    "    exog=df.loc[mask & mask_ft & mask_X2, X2],\n",
    "    entity_effects=True,\n",
    "    time_effects=True\n",
    ")\n",
    "\n",
    "# Fit model\n",
    "res2 = m2.fit(cov_type='clustered')\n",
    "\n",
    "# View results\n",
    "print(res2.summary)"
   ]
  }
 ],
 "metadata": {
  "kernelspec": {
   "display_name": "econ",
   "language": "python",
   "name": "python3"
  },
  "language_info": {
   "codemirror_mode": {
    "name": "ipython",
    "version": 3
   },
   "file_extension": ".py",
   "mimetype": "text/x-python",
   "name": "python",
   "nbconvert_exporter": "python",
   "pygments_lexer": "ipython3",
   "version": "3.11.5"
  }
 },
 "nbformat": 4,
 "nbformat_minor": 5
}
