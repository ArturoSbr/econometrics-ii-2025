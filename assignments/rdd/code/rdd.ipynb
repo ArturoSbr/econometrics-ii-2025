{
  "cells": [
    {
      "cell_type": "markdown",
      "metadata": {
        "id": "ahITri-fnsiY"
      },
      "source": [
        "Imports"
      ]
    },
    {
      "cell_type": "code",
      "execution_count": 1,
      "metadata": {
        "id": "HWkWFR_iMk8h"
      },
      "outputs": [],
      "source": [
        "import os\n",
        "import numpy as np\n",
        "import pandas as pd\n",
        "import statsmodels.api as sm\n",
        "import matplotlib.pyplot as plt"
      ]
    },
    {
      "cell_type": "markdown",
      "metadata": {
        "id": "eUJiNxPenuWs"
      },
      "source": [
        "Read data"
      ]
    },
    {
      "cell_type": "code",
      "execution_count": null,
      "metadata": {
        "id": "ZgkqnIRTzk_D"
      },
      "outputs": [],
      "source": [
        "PATH = os.path.join('..', 'data', 'raw.csv')\n",
        "df = pd.read_csv(PATH)"
      ]
    },
    {
      "cell_type": "markdown",
      "metadata": {
        "id": "4IWuk4HDnwkn"
      },
      "source": [
        "View data (+QA)"
      ]
    },
    {
      "cell_type": "code",
      "execution_count": null,
      "metadata": {
        "colab": {
          "base_uri": "https://localhost:8080/",
          "height": 204
        },
        "id": "ppQPX-okMhXm",
        "outputId": "46ee4e63-e40e-4675-843d-5201a9d53d00"
      },
      "outputs": [],
      "source": [
        "df.head(5)"
      ]
    },
    {
      "cell_type": "code",
      "execution_count": null,
      "metadata": {
        "colab": {
          "base_uri": "https://localhost:8080/",
          "height": 362
        },
        "id": "1bgmfj2pDrag",
        "outputId": "203df6a0-6ac8-4ff7-e4c2-45512b55350a"
      },
      "outputs": [],
      "source": [
        "df.isna().sum()"
      ]
    },
    {
      "cell_type": "code",
      "execution_count": null,
      "metadata": {
        "colab": {
          "base_uri": "https://localhost:8080/",
          "height": 362
        },
        "id": "3e33JPCdz8BW",
        "outputId": "87cb28be-7885-4874-cd03-a063913949e5"
      },
      "outputs": [],
      "source": [
        "df.dtypes"
      ]
    },
    {
      "cell_type": "markdown",
      "metadata": {
        "id": "VMQlglBpn9_r"
      },
      "source": [
        "View distributions"
      ]
    },
    {
      "cell_type": "code",
      "execution_count": null,
      "metadata": {
        "colab": {
          "base_uri": "https://localhost:8080/",
          "height": 1000
        },
        "collapsed": true,
        "id": "pY3WNYHJz_Gq",
        "outputId": "37d31397-e692-4a62-ac90-ce5fc0e20e8f"
      },
      "outputs": [],
      "source": [
        "cols = ['cohsize', 'avgmath', 'avgverb', 'tipuach']\n",
        "for col in cols:\n",
        "    plt.hist(df[col], bins=20)\n",
        "    plt.title(col.title())\n",
        "    plt.show()"
      ]
    },
    {
      "cell_type": "markdown",
      "metadata": {
        "id": "9nHgBbU-pVVI"
      },
      "source": [
        "Plot data"
      ]
    },
    {
      "cell_type": "code",
      "execution_count": null,
      "metadata": {
        "colab": {
          "base_uri": "https://localhost:8080/",
          "height": 472
        },
        "id": "wl077Sav1Jl3",
        "outputId": "586a6e30-59cc-42c0-bf89-a5fd55afccd9"
      },
      "outputs": [],
      "source": [
        "plt.axvline(40, color='gray', ls='--', lw=2, zorder=1)\n",
        "plt.scatter(\n",
        "    x=df.loc[df['z'].eq(1), 'cohsize'],\n",
        "    y=df.loc[df['z'].eq(1), 'avgmath'],\n",
        "    color='C1',\n",
        "    alpha=0.6,\n",
        "    label='Large class size (Z=1)',\n",
        "    zorder=2\n",
        ")\n",
        "plt.scatter(\n",
        "    x=df.loc[df['z'].eq(0), 'cohsize'],\n",
        "    y=df.loc[df['z'].eq(0), 'avgmath'],\n",
        "    color='C0',\n",
        "    alpha=0.6,\n",
        "    label='Small class size (Z=0)',\n",
        "    zorder=2\n",
        ")\n",
        "\n",
        "# Add naive means for each group\n",
        "plt.axhline(\n",
        "    df.loc[df['z'].eq(1), 'avgmath'].mean(), xmax=0.47, color='C1', zorder=3\n",
        ")\n",
        "plt.axhline(\n",
        "    df.loc[df['z'].eq(0), 'avgmath'].mean(), xmin=0.47, xmax=1, color='C0', zorder=3\n",
        ")\n",
        "\n",
        "# Aesthetics\n",
        "plt.xticks(np.arange(30, 51, 2))\n",
        "plt.ylim(0, 100)\n",
        "plt.title('Cohort Size vs. Average Math Score')\n",
        "plt.xlabel('Cohort Size')\n",
        "plt.ylabel('Average Math Score')\n",
        "plt.legend(loc='lower right')\n",
        "\n",
        "# Show\n",
        "plt.show()"
      ]
    },
    {
      "cell_type": "markdown",
      "metadata": {
        "id": "804DfDLTpXXL"
      },
      "source": [
        "Fit linear model"
      ]
    },
    {
      "cell_type": "code",
      "execution_count": null,
      "metadata": {
        "colab": {
          "base_uri": "https://localhost:8080/"
        },
        "collapsed": true,
        "id": "SR2cM7AMCJ2u",
        "outputId": "b1a0b0c8-21f4-4736-b18e-56ff118a2164"
      },
      "outputs": [],
      "source": [
        "# Feature engineering\n",
        "CUTOFF = 40\n",
        "df['x'] = df['cohsize'] - CUTOFF\n",
        "\n",
        "# Declare and fit model\n",
        "spec = sm.OLS.from_formula(formula='avgmath ~ 1 + x + z + z * x', data=df)\n",
        "res = spec.fit(cov_type='HC3')\n",
        "\n",
        "# View results\n",
        "print(res.summary())"
      ]
    },
    {
      "cell_type": "markdown",
      "metadata": {
        "id": "y4Qqo2WcR9Zt"
      },
      "source": [
        "Plot same graph as before but instead of using naive averages, plot the RDD model from before."
      ]
    },
    {
      "cell_type": "code",
      "execution_count": null,
      "metadata": {
        "colab": {
          "base_uri": "https://localhost:8080/",
          "height": 472
        },
        "id": "rwV5uY12wwpR",
        "outputId": "ac1e5d60-44bd-4030-d6d5-0979d90ec535"
      },
      "outputs": [],
      "source": [
        "# Data to plot\n",
        "to_plot = df.assign(\n",
        "    pred_m1=res.predict(df)\n",
        ").sort_values('x')\n",
        "\n",
        "# Plot\n",
        "plt.axvline(0, color='gray', ls='--', lw=2, zorder=1)\n",
        "plt.scatter(\n",
        "    x=df.loc[df['z'].eq(1), 'x'],\n",
        "    y=df.loc[df['z'].eq(1), 'avgmath'],\n",
        "    color='C1',\n",
        "    alpha=0.6,\n",
        "    label='Large class size (Z=1)',\n",
        "    zorder=2\n",
        ")\n",
        "plt.scatter(\n",
        "    x=df.loc[df['z'].eq(0), 'x'],\n",
        "    y=df.loc[df['z'].eq(0), 'avgmath'],\n",
        "    color='C0',\n",
        "    alpha=0.6,\n",
        "    label='Small class size (Z=0)',\n",
        "    zorder=2\n",
        ")\n",
        "plt.plot(\n",
        "    to_plot.loc[to_plot['z'].eq(0), 'x'],\n",
        "    to_plot.loc[to_plot['z'].eq(0), 'pred_m1'],\n",
        "    lw=3, color='C0'\n",
        ")\n",
        "plt.plot(\n",
        "    to_plot.loc[to_plot['z'].eq(1), 'x'],\n",
        "    to_plot.loc[to_plot['z'].eq(1), 'pred_m1'],\n",
        "    lw=3, color='C1'\n",
        ")\n",
        "\n",
        "# Aesthetics\n",
        "plt.ylim(0, 100)\n",
        "plt.title('Cohort Size vs. Average Math Score')\n",
        "plt.xlabel('Cohort Size - Cutoff')\n",
        "plt.ylabel('Average Math Score')\n",
        "plt.legend(loc='lower right')\n",
        "\n",
        "# Show\n",
        "plt.show()\n",
        "plt.show()"
      ]
    }
  ],
  "metadata": {
    "colab": {
      "provenance": []
    },
    "kernelspec": {
      "display_name": "econ",
      "language": "python",
      "name": "python3"
    },
    "language_info": {
      "codemirror_mode": {
        "name": "ipython",
        "version": 3
      },
      "file_extension": ".py",
      "mimetype": "text/x-python",
      "name": "python",
      "nbconvert_exporter": "python",
      "pygments_lexer": "ipython3",
      "version": "3.11.5"
    }
  },
  "nbformat": 4,
  "nbformat_minor": 0
}
